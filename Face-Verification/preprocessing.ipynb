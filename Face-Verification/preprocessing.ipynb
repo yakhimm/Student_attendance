{
 "cells": [
  {
   "cell_type": "code",
   "execution_count": 76,
   "metadata": {},
   "outputs": [],
   "source": [
    "from deepface.commons import functions\n",
    "from os import walk\n",
    "import pandas as pd\n",
    "import numpy as np\n",
    "\n",
    "from skimage.color import rgb2gray"
   ]
  },
  {
   "cell_type": "code",
   "execution_count": 77,
   "metadata": {},
   "outputs": [],
   "source": [
    "path_classes = './dataset/classes/'\n",
    "path_preprocessing = './dataset/preprocessing/'\n",
    "new_path_classes = next(walk(path_classes), (None, None, []))[2]\n",
    "\n",
    "target_size = functions.find_target_size(model_name= 'VGG-Face')\n",
    "names = []\n",
    "imgs = []\n",
    "for name in new_path_classes:\n",
    "    objs = functions.extract_faces( path_classes + name,\n",
    "                                    target_size= target_size,\n",
    "                                    detector_backend= 'retinaface',\n",
    "                                    grayscale=False,\n",
    "                                    enforce_detection=True,\n",
    "                                    align=True)\n",
    "    img = objs[0][0]\n",
    "    img = functions.normalize_input(img=img, normalization='base')\n",
    "    img_gray = rgb2gray(img)\n",
    "    img_size = np.prod(img_gray.shape)\n",
    "    img_resize = img_gray.reshape(img_size)\n",
    "\n",
    "    imgs.append(img_resize)\n",
    "    names.append(name.replace('.jpg', ''))"
   ]
  },
  {
   "cell_type": "code",
   "execution_count": 78,
   "metadata": {},
   "outputs": [],
   "source": [
    "imgs_df = pd.DataFrame(imgs)\n",
    "imgs_df.to_csv('./preprocessing_face.csv', index = False)\n",
    "\n",
    "names_df = pd.DataFrame(names)\n",
    "names_df.to_csv('./names.csv', index = False)"
   ]
  }
 ],
 "metadata": {
  "kernelspec": {
   "display_name": "Python 3",
   "language": "python",
   "name": "python3"
  },
  "language_info": {
   "codemirror_mode": {
    "name": "ipython",
    "version": 3
   },
   "file_extension": ".py",
   "mimetype": "text/x-python",
   "name": "python",
   "nbconvert_exporter": "python",
   "pygments_lexer": "ipython3",
   "version": "3.10.10"
  },
  "orig_nbformat": 4
 },
 "nbformat": 4,
 "nbformat_minor": 2
}
