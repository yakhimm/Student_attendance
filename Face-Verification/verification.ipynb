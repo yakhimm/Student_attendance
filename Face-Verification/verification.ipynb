{
 "cells": [
  {
   "cell_type": "code",
   "execution_count": 129,
   "metadata": {},
   "outputs": [],
   "source": [
    "import VGG_Face\n",
    "from deepface.commons import functions\n",
    "from os import walk\n",
    "import pandas as pd\n",
    "\n",
    "from skimage.color import gray2rgb"
   ]
  },
  {
   "cell_type": "code",
   "execution_count": 130,
   "metadata": {},
   "outputs": [],
   "source": [
    "img_w = 224\n",
    "img_h = 224\n",
    "img_gray = (1, img_w, img_h)\n",
    "img_shape = (1, img_w, img_h, 3)"
   ]
  },
  {
   "cell_type": "code",
   "execution_count": 131,
   "metadata": {},
   "outputs": [],
   "source": [
    "file_name = 'preprocessing_face.json'\n",
    "path_test = './dataset/test/'\n",
    "\n",
    "def face_verification(file_name, path_test):\n",
    "    new_path_test = next(walk(path_test), (None, None, []))[2]\n",
    "    result = []\n",
    "    \n",
    "    imgs_df = pd.read_csv('./preprocessing_face.csv')\n",
    "    names_df = pd.read_csv('./names.csv')\n",
    "     \n",
    "    for img_test_name in new_path_test:\n",
    "        flag = None\n",
    "        name = 'Unknown'\n",
    "        min = 2\n",
    "        \n",
    "        target_size = functions.find_target_size(model_name= 'VGG-Face')\n",
    "        img_objs_test = functions.extract_faces( path_test + img_test_name,\n",
    "                                                 target_size= target_size,\n",
    "                                                 detector_backend= 'mtcnn',\n",
    "                                                 grayscale=False,\n",
    "                                                 enforce_detection=True,\n",
    "                                                 align=True)\n",
    "        img_test = img_objs_test[0][0]\n",
    "        img_test = functions.normalize_input(img=img_test, normalization='base')\n",
    "        \n",
    "        for img, names in zip(imgs_df.values, names_df.values):\n",
    "            img_res = img.reshape(img_gray)\n",
    "            img_rgb_res = gray2rgb(img_res).reshape(img_shape)\n",
    "            \n",
    "            verify = VGG_Face.verify(img1 = img_test, \n",
    "                                    img2 = img_rgb_res,\n",
    "                                    distance_metric= 'euclidean_l2',\n",
    "                                    model_name= 'VGG-Face',\n",
    "                                    )\n",
    "                                        \n",
    "            if verify['verified'] == True and verify['distance'] < min:\n",
    "                name = names[0]\n",
    "                min = verify['distance']\n",
    "                flag = verify\n",
    "                if min < 0.15:\n",
    "                    break\n",
    "                \n",
    "        if min > 0.55:\n",
    "            name = 'Unknown'\n",
    "            \n",
    "        result.append((img_test_name, name, flag['distance'], flag['time']))   \n",
    "    return result "
   ]
  },
  {
   "cell_type": "code",
   "execution_count": 132,
   "metadata": {},
   "outputs": [
    {
     "name": "stdout",
     "output_type": "stream",
     "text": [
      "1/1 [==============================] - 0s 95ms/step\n",
      "1/1 [==============================] - 0s 66ms/step\n",
      "1/1 [==============================] - 0s 39ms/step\n",
      "1/1 [==============================] - 0s 30ms/step\n",
      "1/1 [==============================] - 0s 24ms/step\n",
      "1/1 [==============================] - 0s 22ms/step\n",
      "1/1 [==============================] - 0s 21ms/step\n",
      "1/1 [==============================] - 0s 25ms/step\n",
      "1/1 [==============================] - 0s 18ms/step\n",
      "1/1 [==============================] - 0s 18ms/step\n",
      "1/1 [==============================] - 0s 19ms/step\n",
      "1/1 [==============================] - 0s 18ms/step\n",
      "6/6 [==============================] - 0s 5ms/step\n",
      "1/1 [==============================] - 0s 21ms/step\n",
      "1/1 [==============================] - 0s 56ms/step\n",
      "1/1 [==============================] - 0s 40ms/step\n",
      "1/1 [==============================] - 0s 29ms/step\n",
      "1/1 [==============================] - 0s 24ms/step\n",
      "1/1 [==============================] - 0s 22ms/step\n",
      "1/1 [==============================] - 0s 20ms/step\n",
      "1/1 [==============================] - 0s 20ms/step\n",
      "1/1 [==============================] - 0s 19ms/step\n",
      "1/1 [==============================] - 0s 19ms/step\n",
      "1/1 [==============================] - 0s 17ms/step\n",
      "1/1 [==============================] - 0s 17ms/step\n",
      "4/4 [==============================] - 0s 5ms/step\n",
      "1/1 [==============================] - 0s 22ms/step\n"
     ]
    }
   ],
   "source": [
    "result = face_verification(file_name, path_test)"
   ]
  },
  {
   "cell_type": "code",
   "execution_count": 133,
   "metadata": {},
   "outputs": [
    {
     "name": "stdout",
     "output_type": "stream",
     "text": [
      "1.\n",
      "\tFile:  Jung Hae In.jpg\n",
      "\tName:  Unknown\n",
      "\tDistance L2:  0.6410702052603633\n",
      "\tTime:  0.34\n",
      "2.\n",
      "\tFile:  Lee Dong Wook.jpg\n",
      "\tName:  Lee Dong Wook\n",
      "\tDistance L2:  0.47467468558274345\n",
      "\tTime:  0.34\n"
     ]
    }
   ],
   "source": [
    "for i in range(len(result)):\n",
    "    print(f'{i + 1}.')\n",
    "    print('\\tFile: ', result[i][0])\n",
    "    print('\\tName: ', result[i][1])\n",
    "    print('\\tDistance L2: ', result[i][2])\n",
    "    print('\\tTime: ', result[i][3])"
   ]
  }
 ],
 "metadata": {
  "kernelspec": {
   "display_name": "Python 3",
   "language": "python",
   "name": "python3"
  },
  "language_info": {
   "codemirror_mode": {
    "name": "ipython",
    "version": 3
   },
   "file_extension": ".py",
   "mimetype": "text/x-python",
   "name": "python",
   "nbconvert_exporter": "python",
   "pygments_lexer": "ipython3",
   "version": "3.10.10"
  },
  "orig_nbformat": 4
 },
 "nbformat": 4,
 "nbformat_minor": 2
}
